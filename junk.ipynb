{
 "cells": [
  {
   "cell_type": "markdown",
   "id": "0096b3b7",
   "metadata": {},
   "source": [
    "# Application: Estimating RLCT\n",
    "\n",
    "We will now look at a method to estimate RLCT following Theorem 4 of the WBIC paper: \n",
    "```\n",
    "Watanabe, Sumio. 2013. “A Widely Applicable Bayesian Information Criterion.” Journal of Machine Learning Research: JMLR 14 (Mar): 867–97.\n",
    "```\n",
    "\n",
    "Given a model $p(x \\mid w)$, prior $\\varphi(w)$ and dataset $D_n = \\{X_i: i = 1, \\dots, n\\}$ drawn i.i.d. from a true distribution $q(x)$, the theorem assert that for an empirical negative log-likelihood function $L_n(w) = -\\frac{1}{n} \\sum_i \\log p(X_i \\mid w)$ satisfies the following asymptotic expansion in $n$\n",
    "$$\n",
    "\\mathbb{E}_{w}^{\\beta_n}[n L_n(w)] = n L_n(w_0) + \\frac{\\lambda}{\\beta_n} + U_n \\sqrt{\\frac{\\lambda}{\\beta_n}} + O_p(1)\n",
    "$$\n",
    "where \n",
    "  * $\\mathbb{E}_w^{\\beta}[]$ is expectation over the tempered posterior distribution with inverse temperature $\\beta$, \n",
    "    $$\n",
    "    p(w \\mid D_n) \\propto \\varphi(w) \\prod_{i} p(X_i \\mid w)^\\beta = \\varphi(w) e^{-\\beta n L_n(w)}\n",
    "    $$\n",
    "  * the inverse temperature is chosen at $\\beta_n = \\beta_0 / \\log n$ for some constant $\\beta_0$. \n",
    "  * $w_0$ is global minima of the averaged log-likelihood function $L(w) = -\\int q(x) \\log p(x \\mid w) dx$. \n",
    "  * $\\lambda$ is the learning coefficient or the RLCT of the zero set of $L(w) - L(w_0)$. \n",
    "\n",
    "Hence, for large enough $n$, we expect linear regression for a set of points $(1/ \\beta, \\mathbb{E}_{w}^\\beta[n L_n(w)])$ would result with intercept and slope that could estimate $\\lambda$. \n",
    "\n",
    "Intuitively, having higher temperature (lower $\\beta$) changes the scale of the probability mass around the optimal parameter set $W_0$, or put differently, the region of high probability which concentrates near $W_0$ becomes larger as temperature is raised. The higher the temperature, the more we accept \"far away\" subpar solution included during Bayesian averaging, i.e. the larger the volume of high likelihood region. The the model is regular, this change in volume scale as the dimension $d$ of the parameter space. But in singular models, this is instead controlled by the RLCT $2 * \\lambda$. By observing the tempered posterior average of $nL_n(w)$ at a range of temperature, we probing this scaling relation. "
   ]
  },
  {
   "cell_type": "code",
   "execution_count": 220,
   "id": "a9a9226a",
   "metadata": {},
   "outputs": [],
   "source": [
    "def linspaced_itemps_by_n(n, num_itemps):\n",
    "    \"\"\"\n",
    "    Returns a 1D numpy array of length `num_itemps` that contains `num_itemps`\n",
    "    evenly spaced inverse temperatures between the values calculated from the\n",
    "    formula 1/log(n) * (1 - 1/sqrt(2log(n))) and 1/log(n) * (1 + 1/sqrt(2ln(n))).\n",
    "    The formula is used in the context of simulating the behavior of a physical\n",
    "    system at different temperatures using the Metropolis-Hastings algorithm.\n",
    "    \"\"\"\n",
    "    return np.linspace(\n",
    "        1 / np.log(n) * (1 - 1 / np.sqrt(2 * np.log(n))),\n",
    "        1 / np.log(n) * (1 + 1 / np.sqrt(2 * np.log(n))),\n",
    "        num_itemps,\n",
    "    )\n"
   ]
  },
  {
   "cell_type": "code",
   "execution_count": 221,
   "id": "e30173d2",
   "metadata": {},
   "outputs": [
    {
     "name": "stderr",
     "output_type": "stream",
     "text": [
      "/var/folders/fz/r7njsjl97v705mmmwpjrd6g80000gn/T/ipykernel_61678/3839609380.py:16: UserWarning: There are not enough devices to run parallel chains: expected 4 but got 1. Chains will be drawn sequentially. If you are running MCMC in CPU, consider using `numpyro.set_host_device_count(4)` at the beginning of your program. You can double-check how many devices are available in your system using `jax.local_device_count()`.\n",
      "  mcmc = MCMC(nuts_kernel, num_warmup=500, num_samples=2000, num_chains=4, thinning=4)\n"
     ]
    },
    {
     "name": "stdout",
     "output_type": "stream",
     "text": [
      "Sampling from temperature: 6.088816165202249\n"
     ]
    },
    {
     "name": "stderr",
     "output_type": "stream",
     "text": [
      "sample: 100%|████████████████████| 2500/2500 [00:00<00:00, 2930.81it/s, 1 steps of size 1.09e+00. acc. prob=0.93]\n",
      "sample: 100%|███████████████████| 2500/2500 [00:00<00:00, 13000.79it/s, 3 steps of size 1.16e+00. acc. prob=0.92]\n",
      "sample: 100%|███████████████████| 2500/2500 [00:00<00:00, 12238.35it/s, 3 steps of size 1.14e+00. acc. prob=0.88]\n",
      "sample: 100%|███████████████████| 2500/2500 [00:00<00:00, 12827.09it/s, 3 steps of size 9.90e-01. acc. prob=0.92]\n",
      "/var/folders/fz/r7njsjl97v705mmmwpjrd6g80000gn/T/ipykernel_61678/3839609380.py:16: UserWarning: There are not enough devices to run parallel chains: expected 4 but got 1. Chains will be drawn sequentially. If you are running MCMC in CPU, consider using `numpyro.set_host_device_count(4)` at the beginning of your program. You can double-check how many devices are available in your system using `jax.local_device_count()`.\n",
      "  mcmc = MCMC(nuts_kernel, num_warmup=500, num_samples=2000, num_chains=4, thinning=4)\n"
     ]
    },
    {
     "name": "stdout",
     "output_type": "stream",
     "text": [
      "Sampling from temperature: 4.980322487257292\n"
     ]
    },
    {
     "name": "stderr",
     "output_type": "stream",
     "text": [
      "sample: 100%|████████████████████| 2500/2500 [00:00<00:00, 2913.61it/s, 1 steps of size 1.06e+00. acc. prob=0.92]\n",
      "sample: 100%|███████████████████| 2500/2500 [00:00<00:00, 11910.43it/s, 3 steps of size 1.06e+00. acc. prob=0.92]\n",
      "sample: 100%|███████████████████| 2500/2500 [00:00<00:00, 12183.05it/s, 3 steps of size 1.13e+00. acc. prob=0.89]\n",
      "sample: 100%|███████████████████| 2500/2500 [00:00<00:00, 11632.40it/s, 3 steps of size 1.27e+00. acc. prob=0.90]\n",
      "/var/folders/fz/r7njsjl97v705mmmwpjrd6g80000gn/T/ipykernel_61678/3839609380.py:16: UserWarning: There are not enough devices to run parallel chains: expected 4 but got 1. Chains will be drawn sequentially. If you are running MCMC in CPU, consider using `numpyro.set_host_device_count(4)` at the beginning of your program. You can double-check how many devices are available in your system using `jax.local_device_count()`.\n",
      "  mcmc = MCMC(nuts_kernel, num_warmup=500, num_samples=2000, num_chains=4, thinning=4)\n"
     ]
    },
    {
     "name": "stdout",
     "output_type": "stream",
     "text": [
      "Sampling from temperature: 4.213278117685207\n"
     ]
    },
    {
     "name": "stderr",
     "output_type": "stream",
     "text": [
      "sample: 100%|████████████████████| 2500/2500 [00:00<00:00, 2901.40it/s, 3 steps of size 1.09e+00. acc. prob=0.93]\n",
      "sample: 100%|███████████████████| 2500/2500 [00:00<00:00, 12683.28it/s, 3 steps of size 9.98e-01. acc. prob=0.92]\n",
      "sample: 100%|███████████████████| 2500/2500 [00:00<00:00, 13023.54it/s, 3 steps of size 9.08e-01. acc. prob=0.93]\n",
      "sample: 100%|███████████████████| 2500/2500 [00:00<00:00, 11943.47it/s, 3 steps of size 1.25e+00. acc. prob=0.90]\n",
      "/var/folders/fz/r7njsjl97v705mmmwpjrd6g80000gn/T/ipykernel_61678/3839609380.py:16: UserWarning: There are not enough devices to run parallel chains: expected 4 but got 1. Chains will be drawn sequentially. If you are running MCMC in CPU, consider using `numpyro.set_host_device_count(4)` at the beginning of your program. You can double-check how many devices are available in your system using `jax.local_device_count()`.\n",
      "  mcmc = MCMC(nuts_kernel, num_warmup=500, num_samples=2000, num_chains=4, thinning=4)\n"
     ]
    },
    {
     "name": "stdout",
     "output_type": "stream",
     "text": [
      "Sampling from temperature: 3.650973441801934\n"
     ]
    },
    {
     "name": "stderr",
     "output_type": "stream",
     "text": [
      "sample: 100%|████████████████████| 2500/2500 [00:00<00:00, 2963.58it/s, 7 steps of size 9.75e-01. acc. prob=0.94]\n",
      "sample: 100%|███████████████████| 2500/2500 [00:00<00:00, 13190.46it/s, 3 steps of size 1.00e+00. acc. prob=0.93]\n",
      "sample: 100%|███████████████████| 2500/2500 [00:00<00:00, 13210.66it/s, 3 steps of size 1.06e+00. acc. prob=0.89]\n",
      "sample: 100%|███████████████████| 2500/2500 [00:00<00:00, 12889.78it/s, 3 steps of size 1.06e+00. acc. prob=0.91]\n",
      "/var/folders/fz/r7njsjl97v705mmmwpjrd6g80000gn/T/ipykernel_61678/3839609380.py:16: UserWarning: There are not enough devices to run parallel chains: expected 4 but got 1. Chains will be drawn sequentially. If you are running MCMC in CPU, consider using `numpyro.set_host_device_count(4)` at the beginning of your program. You can double-check how many devices are available in your system using `jax.local_device_count()`.\n",
      "  mcmc = MCMC(nuts_kernel, num_warmup=500, num_samples=2000, num_chains=4, thinning=4)\n"
     ]
    },
    {
     "name": "stdout",
     "output_type": "stream",
     "text": [
      "Sampling from temperature: 3.221086760617032\n"
     ]
    },
    {
     "name": "stderr",
     "output_type": "stream",
     "text": [
      "sample: 100%|████████████████████| 2500/2500 [00:00<00:00, 2983.58it/s, 1 steps of size 9.80e-01. acc. prob=0.93]\n",
      "sample: 100%|███████████████████| 2500/2500 [00:00<00:00, 12845.95it/s, 3 steps of size 1.02e+00. acc. prob=0.93]\n",
      "sample: 100%|███████████████████| 2500/2500 [00:00<00:00, 13146.56it/s, 3 steps of size 1.23e+00. acc. prob=0.86]\n",
      "sample: 100%|███████████████████| 2500/2500 [00:00<00:00, 13088.79it/s, 3 steps of size 1.23e+00. acc. prob=0.89]\n",
      "/var/folders/fz/r7njsjl97v705mmmwpjrd6g80000gn/T/ipykernel_61678/3839609380.py:16: UserWarning: There are not enough devices to run parallel chains: expected 4 but got 1. Chains will be drawn sequentially. If you are running MCMC in CPU, consider using `numpyro.set_host_device_count(4)` at the beginning of your program. You can double-check how many devices are available in your system using `jax.local_device_count()`.\n",
      "  mcmc = MCMC(nuts_kernel, num_warmup=500, num_samples=2000, num_chains=4, thinning=4)\n"
     ]
    },
    {
     "name": "stdout",
     "output_type": "stream",
     "text": [
      "Sampling from temperature: 2.881770475422528\n"
     ]
    },
    {
     "name": "stderr",
     "output_type": "stream",
     "text": [
      "sample: 100%|████████████████████| 2500/2500 [00:00<00:00, 2944.52it/s, 7 steps of size 8.17e-01. acc. prob=0.94]\n",
      "sample: 100%|███████████████████| 2500/2500 [00:00<00:00, 12970.31it/s, 3 steps of size 1.15e+00. acc. prob=0.90]\n",
      "sample: 100%|███████████████████| 2500/2500 [00:00<00:00, 12269.76it/s, 3 steps of size 1.01e+00. acc. prob=0.91]\n",
      "sample: 100%|███████████████████| 2500/2500 [00:00<00:00, 13069.84it/s, 3 steps of size 1.07e+00. acc. prob=0.90]\n"
     ]
    },
    {
     "name": "stdout",
     "output_type": "stream",
     "text": [
      "R^2=0.9984281229950037\n"
     ]
    },
    {
     "data": {
      "image/png": "[encoded data removed]",
      "text/plain": [
       "<Figure size 500x500 with 1 Axes>"
      ]
     },
     "metadata": {},
     "output_type": "display_data"
    }
   ],
   "source": [
    "\n",
    "def model(x, y, k, itemp=1.0):\n",
    "    a = numpyro.sample(\"a\", dist.Normal(0, 1))\n",
    "    mu = jnp.power(a, k) * x\n",
    "    with numpyro.plate(\"data\", len(y)):\n",
    "        numpyro.sample(\"y\", dist.Normal(mu, 1.0 / jnp.sqrt(itemp)), obs=y)\n",
    "\n",
    "def loglikelihood(a, x, y, k):\n",
    "    mu = jnp.power(a, k) * x\n",
    "    return dist.Normal(mu, scale=1.0).log_prob(y)\n",
    "\n",
    "def generate_data(a_true, k, n, xmin, xmax, rng_key):\n",
    "    rng_key, sub_rng_key = jax.random.split(rng_key)\n",
    "    x = jax.random.uniform(sub_rng_key, (n,), minval=xmin, maxval=xmax)\n",
    "    y = jnp.power(a_true, k) * x + jax.random.normal(rng_key, (n,))\n",
    "    return x, y        \n",
    "\n",
    "\n",
    "a_true = 2.00\n",
    "k = 1\n",
    "n = 50\n",
    "xmin = -5\n",
    "xmax = 5\n",
    "rng_key = jax.random.PRNGKey(32)\n",
    "\n",
    "x, y = generate_data(a_true, k, n, xmin, xmax, rng_key)\n",
    "\n",
    "\n",
    "itemps = linspaced_itemps_by_n(n, num_itemps=6)\n",
    "enlls = []\n",
    "for itemp in itemps:\n",
    "    print(f\"Sampling from temperature: {1 / itemp}\")\n",
    "    nuts_kernel = NUTS(model)\n",
    "    mcmc = MCMC(nuts_kernel, num_warmup=500, num_samples=2000, num_chains=4, thinning=4)\n",
    "    mcmc.run(rng_key, x, y, k, itemp=itemp)\n",
    "    samples = mcmc.get_samples()\n",
    "    num_mcmc_samples = len(samples[list(samples.keys())[0]])\n",
    "    nlls = []\n",
    "    for i in range(num_mcmc_samples):\n",
    "        nlls.append(-loglikelihood(samples['a'][i], x, y, k))\n",
    "    enlls.append(np.mean(nlls))\n",
    "    \n",
    "    \n",
    "fig, ax = plt.subplots(figsize=(5,5))\n",
    "\n",
    "slope, intercept, r_val, _, _ = scipy.stats.linregress(1 / itemps, enlls)\n",
    "ax.plot(1/itemps, enlls, \"kx\")\n",
    "ax.plot(1/itemps, 1/itemps * slope + intercept, label=f\"$\\lambda$={slope:.3f}, $nL_n(w_0)$={intercept:.3f}\")\n",
    "print(f\"R^2={r_val**2}\")\n",
    "\n",
    "ax.legend()\n",
    "ax.set_xlabel(\"Temperature\")\n",
    "ax.set_ylabel(\"Expected NLL\");\n"
   ]
  },
  {
   "cell_type": "code",
   "execution_count": null,
   "id": "4edf725a",
   "metadata": {},
   "outputs": [],
   "source": []
  },
  {
   "cell_type": "code",
   "execution_count": null,
   "id": "2d706e45",
   "metadata": {},
   "outputs": [],
   "source": []
  },
  {
   "cell_type": "code",
   "execution_count": 229,
   "id": "6bf16879",
   "metadata": {},
   "outputs": [
    {
     "name": "stderr",
     "output_type": "stream",
     "text": [
      "/var/folders/fz/r7njsjl97v705mmmwpjrd6g80000gn/T/ipykernel_61678/4267103289.py:34: UserWarning: There are not enough devices to run parallel chains: expected 4 but got 1. Chains will be drawn sequentially. If you are running MCMC in CPU, consider using `numpyro.set_host_device_count(4)` at the beginning of your program. You can double-check how many devices are available in your system using `jax.local_device_count()`.\n",
      "  mcmc = MCMC(nuts_kernel, num_warmup=500, num_samples=2000, num_chains=4, thinning=4)\n"
     ]
    },
    {
     "name": "stdout",
     "output_type": "stream",
     "text": [
      "Sampling from temperature: 8.675342639545496\n"
     ]
    },
    {
     "name": "stderr",
     "output_type": "stream",
     "text": [
      "sample: 100%|███████████████████| 2500/2500 [00:01<00:00, 2482.46it/s, 15 steps of size 2.69e-01. acc. prob=0.95]\n",
      "sample: 100%|███████████████████| 2500/2500 [00:00<00:00, 10420.36it/s, 3 steps of size 2.26e-01. acc. prob=0.95]\n",
      "sample: 100%|███████████████████| 2500/2500 [00:00<00:00, 10674.78it/s, 1 steps of size 3.41e-01. acc. prob=0.93]\n",
      "sample: 100%|██████████████████| 2500/2500 [00:00<00:00, 10570.78it/s, 15 steps of size 2.51e-01. acc. prob=0.94]\n"
     ]
    },
    {
     "ename": "KeyboardInterrupt",
     "evalue": "",
     "output_type": "error",
     "traceback": [
      "\u001b[0;31m---------------------------------------------------------------------------\u001b[0m",
      "\u001b[0;31mKeyboardInterrupt\u001b[0m                         Traceback (most recent call last)",
      "Cell \u001b[0;32mIn[229], line 41\u001b[0m\n\u001b[1;32m     39\u001b[0m     \u001b[38;5;28;01mfor\u001b[39;00m i \u001b[38;5;129;01min\u001b[39;00m \u001b[38;5;28mrange\u001b[39m(num_mcmc_samples):\n\u001b[1;32m     40\u001b[0m         nlls\u001b[38;5;241m.\u001b[39mappend(\u001b[38;5;241m-\u001b[39mloglikelihood(samples[\u001b[38;5;124m'\u001b[39m\u001b[38;5;124ma\u001b[39m\u001b[38;5;124m'\u001b[39m][i], samples[\u001b[38;5;124m'\u001b[39m\u001b[38;5;124mb\u001b[39m\u001b[38;5;124m'\u001b[39m][i], x, y))\n\u001b[0;32m---> 41\u001b[0m     enlls\u001b[38;5;241m.\u001b[39mappend(\u001b[43mnp\u001b[49m\u001b[38;5;241;43m.\u001b[39;49m\u001b[43mmean\u001b[49m\u001b[43m(\u001b[49m\u001b[43mnlls\u001b[49m\u001b[43m)\u001b[49m)\n\u001b[1;32m     44\u001b[0m fig, ax \u001b[38;5;241m=\u001b[39m plt\u001b[38;5;241m.\u001b[39msubplots(figsize\u001b[38;5;241m=\u001b[39m(\u001b[38;5;241m5\u001b[39m,\u001b[38;5;241m5\u001b[39m))\n\u001b[1;32m     46\u001b[0m slope, intercept, r_val, _, _ \u001b[38;5;241m=\u001b[39m scipy\u001b[38;5;241m.\u001b[39mstats\u001b[38;5;241m.\u001b[39mlinregress(\u001b[38;5;241m1\u001b[39m \u001b[38;5;241m/\u001b[39m itemps, enlls)\n",
      "File \u001b[0;32m~/.local/share/virtualenvs/slt_alignment_workshop_2023_demo-Mytcy8oj/lib/python3.11/site-packages/numpy/core/fromnumeric.py:3504\u001b[0m, in \u001b[0;36mmean\u001b[0;34m(a, axis, dtype, out, keepdims, where)\u001b[0m\n\u001b[1;32m   3501\u001b[0m     \u001b[38;5;28;01melse\u001b[39;00m:\n\u001b[1;32m   3502\u001b[0m         \u001b[38;5;28;01mreturn\u001b[39;00m mean(axis\u001b[38;5;241m=\u001b[39maxis, dtype\u001b[38;5;241m=\u001b[39mdtype, out\u001b[38;5;241m=\u001b[39mout, \u001b[38;5;241m*\u001b[39m\u001b[38;5;241m*\u001b[39mkwargs)\n\u001b[0;32m-> 3504\u001b[0m \u001b[38;5;28;01mreturn\u001b[39;00m \u001b[43m_methods\u001b[49m\u001b[38;5;241;43m.\u001b[39;49m\u001b[43m_mean\u001b[49m\u001b[43m(\u001b[49m\u001b[43ma\u001b[49m\u001b[43m,\u001b[49m\u001b[43m \u001b[49m\u001b[43maxis\u001b[49m\u001b[38;5;241;43m=\u001b[39;49m\u001b[43maxis\u001b[49m\u001b[43m,\u001b[49m\u001b[43m \u001b[49m\u001b[43mdtype\u001b[49m\u001b[38;5;241;43m=\u001b[39;49m\u001b[43mdtype\u001b[49m\u001b[43m,\u001b[49m\n\u001b[1;32m   3505\u001b[0m \u001b[43m                      \u001b[49m\u001b[43mout\u001b[49m\u001b[38;5;241;43m=\u001b[39;49m\u001b[43mout\u001b[49m\u001b[43m,\u001b[49m\u001b[43m \u001b[49m\u001b[38;5;241;43m*\u001b[39;49m\u001b[38;5;241;43m*\u001b[39;49m\u001b[43mkwargs\u001b[49m\u001b[43m)\u001b[49m\n",
      "File \u001b[0;32m~/.local/share/virtualenvs/slt_alignment_workshop_2023_demo-Mytcy8oj/lib/python3.11/site-packages/numpy/core/_methods.py:102\u001b[0m, in \u001b[0;36m_mean\u001b[0;34m(a, axis, dtype, out, keepdims, where)\u001b[0m\n\u001b[1;32m    101\u001b[0m \u001b[38;5;28;01mdef\u001b[39;00m \u001b[38;5;21m_mean\u001b[39m(a, axis\u001b[38;5;241m=\u001b[39m\u001b[38;5;28;01mNone\u001b[39;00m, dtype\u001b[38;5;241m=\u001b[39m\u001b[38;5;28;01mNone\u001b[39;00m, out\u001b[38;5;241m=\u001b[39m\u001b[38;5;28;01mNone\u001b[39;00m, keepdims\u001b[38;5;241m=\u001b[39m\u001b[38;5;28;01mFalse\u001b[39;00m, \u001b[38;5;241m*\u001b[39m, where\u001b[38;5;241m=\u001b[39m\u001b[38;5;28;01mTrue\u001b[39;00m):\n\u001b[0;32m--> 102\u001b[0m     arr \u001b[38;5;241m=\u001b[39m asanyarray(a)\n\u001b[1;32m    104\u001b[0m     is_float16_result \u001b[38;5;241m=\u001b[39m \u001b[38;5;28;01mFalse\u001b[39;00m\n\u001b[1;32m    106\u001b[0m     rcount \u001b[38;5;241m=\u001b[39m _count_reduce_items(arr, axis, keepdims\u001b[38;5;241m=\u001b[39mkeepdims, where\u001b[38;5;241m=\u001b[39mwhere)\n",
      "\u001b[0;31mKeyboardInterrupt\u001b[0m: "
     ]
    }
   ],
   "source": [
    "def model(x, y, itemp=1.0):\n",
    "    a = numpyro.sample(\"a\", dist.Normal(0, 10.0))\n",
    "    b = numpyro.sample(\"b\", dist.Normal(0, 10.0))\n",
    "    \n",
    "    mu = a * jnp.tanh(b * x)\n",
    "    with numpyro.plate(\"data\", len(y)):\n",
    "        numpyro.sample(\"y\", dist.Normal(mu, 0.1 / jnp.sqrt(itemp)), obs=y)\n",
    "\n",
    "def loglikelihood(a, b, x, y):\n",
    "    mu = a * jnp.tanh(b * x)\n",
    "    return dist.Normal(mu, scale=1.0).log_prob(y)\n",
    "\n",
    "def generate_data(a_true, b_true, n, xmin, xmax, rng_key):\n",
    "    rng_key, sub_rng_key = jax.random.split(rng_key)\n",
    "    x = jax.random.uniform(sub_rng_key, (n,), minval=xmin, maxval=xmax)\n",
    "    y = a_true * jnp.tanh(b_true * x) + jax.random.normal(rng_key, (n,))\n",
    "    return x, y        \n",
    "\n",
    "a_true = 1.00\n",
    "b_true = 1.00\n",
    "n = 500\n",
    "xmin = -2\n",
    "xmax = 2\n",
    "rng_key = jax.random.PRNGKey(35)\n",
    "\n",
    "x, y = generate_data(a_true, b_true, n, xmin, xmax, rng_key)\n",
    "\n",
    "\n",
    "itemps = linspaced_itemps_by_n(n, num_itemps=6)\n",
    "enlls = []\n",
    "for itemp in itemps:\n",
    "    print(f\"Sampling from temperature: {1 / itemp}\")\n",
    "    nuts_kernel = NUTS(model)\n",
    "    mcmc = MCMC(nuts_kernel, num_warmup=500, num_samples=2000, num_chains=4, thinning=4)\n",
    "    mcmc.run(rng_key, x, y, itemp=itemp)\n",
    "    samples = mcmc.get_samples()\n",
    "    nlls = []\n",
    "    num_mcmc_samples = len(samples[list(samples.keys())[0]])\n",
    "    for i in range(num_mcmc_samples):\n",
    "        nlls.append(-loglikelihood(samples['a'][i], samples['b'][i], x, y))\n",
    "    enlls.append(np.mean(nlls))\n",
    "    \n",
    "    \n",
    "fig, ax = plt.subplots(figsize=(5,5))\n",
    "\n",
    "slope, intercept, r_val, _, _ = scipy.stats.linregress(1 / itemps, enlls)\n",
    "ax.plot(1/itemps, enlls, \"kx\")\n",
    "ax.plot(1/itemps, 1/itemps * slope + intercept, label=f\"$\\lambda$={slope:.3f}, $nL_n(w_0)$={intercept:.3f}\")\n",
    "print(f\"R^2={r_val**2}\")\n",
    "\n",
    "ax.legend()\n",
    "ax.set_xlabel(\"Temperature\")\n",
    "ax.set_ylabel(\"Expected NLL\");\n"
   ]
  },
  {
   "cell_type": "markdown",
   "id": "d5b7dc94",
   "metadata": {},
   "source": [
    "# We can now do any posterior expectation!\n",
    "$B_g(n), G_g(n), WAIC, WBIC ... $"
   ]
  },
  {
   "cell_type": "code",
   "execution_count": null,
   "id": "897c2243",
   "metadata": {},
   "outputs": [],
   "source": [
    "# dimension of `loglike_array` in all the following functions are \n",
    "# (num data samples X, num mcmc sampled parameters w)\n",
    "def compute_bayesian_loss(loglike_array):\n",
    "    num_mcmc_samples = loglike_array.shape[1]\n",
    "    result = -np.mean(logsumexp(loglike_array, b=1 / num_mcmc_samples, axis=1))\n",
    "    return result\n",
    "\n",
    "\n",
    "def compute_gibbs_loss(loglike_array):\n",
    "    gerrs = np.mean(loglike_array, axis=0)\n",
    "    gg = np.mean(gerrs)\n",
    "    return -gg\n",
    "\n",
    "\n",
    "def compute_waic(loglike_array):\n",
    "    func_var = compute_functional_variance(loglike_array)\n",
    "    bayes_train_loss = compute_bayesian_loss(loglike_array)\n",
    "    return bayes_train_loss + func_var\n",
    "\n",
    "\n",
    "def compute_wbic(tempered_loglike_array):\n",
    "    return -np.mean(np.sum(tempered_loglike_array, axis=0))\n",
    "\n"
   ]
  },
  {
   "cell_type": "markdown",
   "id": "a27e2c6c",
   "metadata": {},
   "source": [
    "# Application: Toy Model of Superposition\n",
    "\n",
    "- Visualisation: \n",
    " - Structure of the clumps in tSNE. \n",
    " - \n",
    " \n",
    " \n",
    "Would like to write version with `plotly` or `bokeh` to visualise individual polygons in MCMC samples. "
   ]
  },
  {
   "cell_type": "code",
   "execution_count": null,
   "id": "9e6bdc12",
   "metadata": {},
   "outputs": [],
   "source": [
    "def count_convhull_vertices(W):\n",
    "    hull = ConvexHull(W.T)\n",
    "    return len(hull.vertices)\n",
    "\n",
    "\n",
    "def plot_polygon(W, ax=None, hull_alpha=0.3): # works for 2D polygon only. \n",
    "    if ax is None:\n",
    "        fig, ax = plt.subplots(1, 1)\n",
    "\n",
    "    # Normalize a copy of the vectors for angle calculations\n",
    "    W_normalized = W / np.linalg.norm(W, axis=0)\n",
    "\n",
    "    # Compute angles from the x-axis for each vector\n",
    "    angles = np.arctan2(W_normalized[1, :], W_normalized[0, :])\n",
    "\n",
    "    # Sort the columns of W by angles\n",
    "    W_sorted = W[:, np.argsort(angles)]\n",
    "\n",
    "    # Plot the origin\n",
    "    ax.scatter(0, 0, color=\"red\")\n",
    "\n",
    "    # Plot the vectors\n",
    "    for i in range(W_sorted.shape[1]):\n",
    "        ax.quiver(\n",
    "            0, 0, W_sorted[0, i], W_sorted[1, i], angles=\"xy\", scale_units=\"xy\", scale=1\n",
    "        )\n",
    "\n",
    "    # Connect the vectors to form a polygon\n",
    "    polygon = np.column_stack((W_sorted, W_sorted[:, 0]))\n",
    "    ax.plot(polygon[0, :], polygon[1, :], alpha=0.5)\n",
    "\n",
    "    # Plot the convex hull\n",
    "    hull = ConvexHull(W.T)\n",
    "    vs = list(hull.vertices) + [hull.vertices[0]]\n",
    "    ax.plot(W[0, vs], W[1, vs], \"r--\", alpha=hull_alpha)\n",
    "\n",
    "    # Set the aspect ratio of the plot to equal to ensure that angles are displayed correctly\n",
    "    ax.set_aspect(\"equal\", adjustable=\"box\")\n",
    "    return ax\n",
    "\n",
    "\n",
    "def normalize_W(W): # This removes the S_n and O(2) symmetries. \n",
    "    # Compute the magnitudes of the columns\n",
    "    magnitudes = np.linalg.norm(W, axis=0)\n",
    "\n",
    "    # Identify the index of the column with the largest magnitude\n",
    "    idx_max_magnitude = np.argmax(magnitudes)\n",
    "\n",
    "    # Compute the angle between the largest column and the x-axis\n",
    "    angle = np.arctan2(W[1, idx_max_magnitude], W[0, idx_max_magnitude])\n",
    "\n",
    "    # Create a rotation matrix (clockwise rotation)\n",
    "    R = np.array([[np.cos(angle), np.sin(angle)], [-np.sin(angle), np.cos(angle)]])\n",
    "\n",
    "    # Rotate the matrix so that the longest vector line up with x-axis\n",
    "    W_rotated = np.dot(R, W)\n",
    "\n",
    "    # Sort the columns according to their angles from the x-axis\n",
    "    W_normalised = W_rotated / magnitudes\n",
    "    angles = np.arctan2(W_normalised[1], W_normalised[0])\n",
    "\n",
    "    return W_rotated[:, np.argsort(angles)]\n",
    "\n",
    "\n",
    "def compute_l2_distance(W1, W2, m=2, normalise_func=normalize_W):\n",
    "    # Normalize the matrices\n",
    "    W1_normalized = normalise_func(W1.reshape(m, -1))\n",
    "    W2_normalized = normalise_func(W2.reshape(m, -1))\n",
    "    # Compute the L2 distance between the normalized matrices\n",
    "    return np.linalg.norm(W1_normalized - W2_normalized)\n",
    "\n",
    "@jax.jit\n",
    "def toymodel_forward(W, b, X):\n",
    "    # Compute ReLU(W^T W x + b), where x is now a row of X\n",
    "    mu = jnp.matmul(jnp.transpose(W), jnp.matmul(W, jnp.transpose(X))) + b\n",
    "    mu = jax.nn.relu(mu)\n",
    "    return jnp.transpose(mu)\n",
    "\n",
    "@jax.jit\n",
    "def toymodel_log_likelihood(W, b, X, sigma_obs=1.0):\n",
    "    mu = toymodel_forward(W, b, X)\n",
    "    return dist.Normal(mu, sigma_obs).log_prob(X)\n",
    "\n"
   ]
  },
  {
   "cell_type": "code",
   "execution_count": null,
   "id": "fc70b193",
   "metadata": {},
   "outputs": [],
   "source": []
  },
  {
   "cell_type": "code",
   "execution_count": null,
   "id": "7eed5127",
   "metadata": {},
   "outputs": [],
   "source": [
    "Ws = posterior_samples[\"W\"]\n",
    "num_mcmc_samples = len(Ws)\n",
    "bs = posterior_samples[\"b\"] # TODO: handle cases where --no_bias is set. \n",
    "\n",
    "\n",
    "# - Convex hull configurations\n",
    "convhull_vertices_nums = [count_convhull_vertices(W) for W in Ws]\n",
    "convhull_vertices_tally = make_tally(convhull_vertices_nums)\n",
    "\n",
    "print(f\"Num MCMC samples: {num_mcmc_samples}\")\n",
    "num_unique_convexhull = len(set(convhull_vertices_nums))\n",
    "\n",
    "print(f\"Distinct convex hulls (num={num_unique_convexhull}): {sorted(set(convhull_vertices_nums))}\")\n",
    "\n",
    "# - Frobenius norms\n",
    "frobenius_norms = np.array([np.sum(W**2) for W in Ws])\n",
    "\n",
    "# - Clustering\n",
    "vecs = np.array([W.flatten() for W in Ws])\n",
    "\n",
    "metric = lambda W1, W2: compute_l2_distance(W1, W2, m=m, normalise_func=normalize_W)\n",
    "kmedoids = KMedoids(n_clusters=n_cluster, metric=metric).fit(vecs)\n",
    "cluster_centers = kmedoids.cluster_centers_\n",
    "\n",
    "\n",
    "# t-SNE for visualization\n",
    "logger.info(\"Running tSNE...\")\n",
    "tsne = TSNE(n_components=2, metric=metric)\n",
    "vecs_2d = tsne.fit_transform(vecs)"
   ]
  },
  {
   "cell_type": "code",
   "execution_count": null,
   "id": "d57f5b63",
   "metadata": {},
   "outputs": [],
   "source": []
  }
 ],
 "metadata": {
  "kernelspec": {
   "display_name": "Python 3 (ipykernel)",
   "language": "python",
   "name": "python3"
  },
  "language_info": {
   "codemirror_mode": {
    "name": "ipython",
    "version": 3
   },
   "file_extension": ".py",
   "mimetype": "text/x-python",
   "name": "python",
   "nbconvert_exporter": "python",
   "pygments_lexer": "ipython3",
   "version": "3.11.3"
  }
 },
 "nbformat": 4,
 "nbformat_minor": 5
}
